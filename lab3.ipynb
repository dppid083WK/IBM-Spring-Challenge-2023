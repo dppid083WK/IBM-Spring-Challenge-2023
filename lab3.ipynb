{
 "cells": [
  {
   "cell_type": "markdown",
   "metadata": {},
   "source": [
    "# Lab 3: Iterative phase estimation\n",
    "\n",
    "The quantum phase estimation (QPE) algorithm is one of the most important and famous quantum algorithms. It is a key subroutine of Shor's factoring algorithm, as well as algorithms for quantum simulation. The textbook version of the algorithm uses a number of auxiliary qubits which scales with the desired precision, leading to circuits that are challenging to execute on today's noisy devices with limited qubit number and connectivity.\n",
    "\n",
    "Iterative phase estimation (IPE) is a variant of QPE which requires only one auxiliary qubit. In IPE, the auxiliary qubit is repeatedly measured, with the measurement results used to guide future quantum operations. Until the introduction of dynamic circuits, such classical feed-forward was impossible to execute on IBM's quantum hardware.\n",
    "\n",
    "In this lab, we will use the recently introduced dynamic circuits capabilities to implement IPE."
   ]
  },
  {
   "cell_type": "markdown",
   "metadata": {},
   "source": [
    "## Background\n",
    "\n",
    "Like any phase estimation algorithm, IPE is designed to solve the following problem:\n",
    "\n",
    "**Problem statement:** Given a unitary matrix $U$ and an eigenstate $|\\Psi\\rangle$ of $U$ with an unknown eigenvalue $e^{i 2\\pi \\varphi}$, estimate the value of $\\varphi$.\n",
    "\n",
    "A few important details need to be clarified in this problem statement, namely, how $U$ and $|\\Psi\\rangle$ are specified. We assume that $U$ is given as a quantum circuit implementing $U$, and in fact, we assume we have the ability to efficiently implement the operations *controlled*-$U^{2^t}$ for positive integers $t$.\n",
    "This is the same assumption used in the original QPE algorithm.\n",
    "The eigenstate is also given as a quantum circuit: we assume we have the ability to efficiently prepare $|\\Psi\\rangle$.\n",
    "\n",
    "Let's first assume for simplicity that $\\varphi$ can have an exact binary expansion, that is, it can be written as\n",
    "$$\n",
    "\\varphi = \\varphi_1/2 + \\varphi_2/4 + \\cdots + \\varphi_m/2^m = 0.\\varphi_1 \\varphi_2 \\cdots \\varphi_m\n",
    "$$\n",
    "where in the final equality we are using \"decimal\" point notation in base 2.\n",
    "For simplicity, suppose $U$ is a unitary operator acting on one qubit (everything we say here also applies to the case where $U$ acts on multiple qubits). Since IPE requires an auxiliary qubit, we need a system of two qubits, $q_0$ and $q_1$, where $q_0$ is the auxiliary qubit and $q_1$ represents the physical system on which $U$ operates.\n",
    "\n",
    "Now, suppose that we initialize $q_0$ in the state $|+\\rangle = \\frac{|0\\rangle + |1\\rangle}{\\sqrt{2}}$ and $q_1$ in the state $|\\Psi \\rangle$.\n",
    "What happens if we apply the *controlled*-$U^{2^t}$ gate, with $q_0$ being the control and $q_1$ being the target?\n",
    "Since $|\\Psi \\rangle$ is an eigenstate of $U$ with eigenvalue $e^{i 2\\pi \\varphi}$, we have\n",
    "$$\n",
    "\\begin{align}\n",
    "|+\\rangle |\\Psi \\rangle &= \\left(\\frac{|0\\rangle + |1\\rangle}{\\sqrt{2}}\\right) |\\Psi \\rangle \\\\\n",
    "&= \\frac{|0\\rangle |\\Psi \\rangle + |1\\rangle |\\Psi \\rangle}{\\sqrt{2}} \\\\\n",
    "&\\xrightarrow{\\text{controlled-}U^{2^t}} \\frac{|0\\rangle |\\Psi \\rangle + e^{i 2 \\pi 2^{t} \\varphi} |1\\rangle |\\Psi \\rangle}{\\sqrt{2}} \\\\\n",
    "&= \\left(\\frac{|0\\rangle  + e^{i 2 \\pi 2^{t} \\varphi} |1\\rangle}{\\sqrt{2}}\\right) |\\Psi \\rangle.\n",
    "\\end{align}\n",
    "$$\n",
    "That is, the state of the system qubit remains unchanged, while a phase of $e^{i 2 \\pi 2^{t} \\varphi}$ has been \"kicked back\" into the state of the auxiliary qubit.\n",
    "\n",
    "Now, note that\n",
    "$$\n",
    "e^{i 2 \\pi 2^{t} \\varphi} = e^{i 2 \\pi 2^{t} (0.\\varphi_1 \\varphi_2 \\cdots \\varphi_m)}\n",
    "= e^{i 2 \\pi (\\varphi_1 \\cdots \\varphi_t . \\varphi_{t + 1} \\cdots \\varphi_m)}\n",
    "= e^{i 2 \\pi (0. \\varphi_{t + 1} \\cdots \\varphi_m)},\n",
    "$$\n",
    "where in the last equality, the whole number part of the \"decimal\" representation of the phase has disappeared because $e^{i 2\\pi n} = 1$ for any integer $n$.\n",
    "For example:\n",
    "- for $t=0$, the phase would be $e^{i 2 \\pi 2^{0} \\varphi} = e^{i 2 \\pi \\varphi} = e^{i 2 \\pi 0.\\varphi_1 \\varphi_2 ... \\varphi_m}$\n",
    "- for $t=1$, the phase would be $e^{i 2 \\pi 2^{1} \\varphi}= e^{i 2 \\pi \\varphi_1} e^{i 2 \\pi 0.\\varphi_2 \\varphi_3 ... \\varphi_m} = e^{i 2 \\pi 0.\\varphi_2 \\varphi_3 ... \\varphi_m}$\n",
    "- for $t=2$, the phase would be $e^{i 2 \\pi 2^{2} \\varphi} = e^{i 2 \\pi 0.\\varphi_3 \\varphi_4 ... \\varphi_m}$\n",
    "- for $t=m-1$, the phase would be $e^{i 2 \\pi 2^{m-1} \\varphi} = e^{i 2 \\pi 0.\\varphi_m}$.\n",
    "\n",
    "In the last case where $t = m - 1$, the phase is $e^{i 2 \\pi 0.\\varphi_m}$, which is equal to $1$ if $\\varphi_m = 0$ and $-1$ if $\\varphi_m = 1$.\n",
    "In the first case, the auxiliary qubit $q_0$ would be in the state $|+\\rangle = \\frac{|0\\rangle + |1\\rangle}{\\sqrt{2}}$, and in the second case it would be\n",
    "in the state $|-\\rangle = \\frac{|0\\rangle - |1\\rangle}{\\sqrt{2}}$. Therefore, measuring the qubit in the Pauli $X$ basis would distinguish these cases with a 100\\% success rate.\n",
    "This is done by performing a Hadamard gate on the qubit before measuring it. In the first case we would measure 0 and in the second case we would measure 1;\n",
    "in other words, the measured bit would be equal to $\\varphi_m$.\n",
    "\n",
    "### The algorithm\n",
    "\n",
    "In the first step of the IPE algorithm, we directly measure the least significant bit of the phase $\\varphi$, $\\varphi_m$, by initializing the 2-qubit registers as described above ( $q_0 \\rightarrow |+\\rangle$ and $q_1 \\rightarrow |\\Psi \\rangle$ ), performing a *controlled*-$U^{2^{m-1}}$ operation, and measuring $q_0$ in the Pauli $X$ basis.\n",
    "\n",
    "in the second step, we initialize the systems in the same way and apply a *controlled*-$U^{2^{m-2}}$ operation. The relative phase in $q_0$ after these operations is now $e^{i 2 \\pi 0.\\varphi_{m-1}\\varphi_{m}}= e^{i 2 \\pi 0.\\varphi_{m-1}} e^{i 2 \\pi \\varphi_m/4}$. \n",
    "To extract the phase bit $\\varphi_{m-1}$, first perform a phase correction by rotating around the $Z$-axis by an angle $-2 \\pi \\varphi_m/4=-\\pi \\varphi_m/2$, which results in the state of  $q_0$ to be $|0\\rangle + e^{i 2 \\pi 0.\\varphi_{m-1}} | 1 \\rangle$. Perform a measurement on $q_0$ in the Pauli $X$ basis to obtain the phase bit $\\varphi_{m-1}$. \n",
    "\n",
    "Therefore, the $k$-th step of the IPE, getting $\\varphi_{m-k+1}$, consists of the register initialization ($q_0$ in $|+\\rangle$, $q_1$ in $|\\Psi\\rangle$), the application of a *controlled*-$U^{2^{m-k}}$, a rotation around $Z$ of angle $\\omega_k = -2 \\pi 0.0\\varphi_{m-k+2} ... \\varphi_m$, and a measurement of $q_0$ in the Pauli $X$ basis: a Hadamard transform to $q_0$, and a measurement of $q_0$ in the computational basis. Note that $q_1$ remains in the state $|\\Psi\\rangle$ throughout the algorithm."
   ]
  },
  {
   "cell_type": "markdown",
   "metadata": {},
   "source": [
    "## Implementation\n",
    "\n",
    "In this lab, we will perform IPE on the single-qubit $S$-gate. The $S$ gate is given by the matrix\n",
    "\n",
    "$$ S =\n",
    "\\begin{pmatrix}\n",
    "1 & 0\\\\\n",
    "0 & e^{i\\pi / 2}\n",
    "\\end{pmatrix}$$\n",
    "\n",
    "We will use the eigenstate $|\\Psi\\rangle = |1\\rangle$, which has eigenvalue $e^{i\\pi / 2}= e^{i2\\pi \\cdot 1/4}$. So we have $\\varphi = 1/4 = 0.01 = 0.\\varphi_1 \\varphi_2$. Since $\\varphi$ can be represented exactly with 2 bits, our quantum circuit implementation will use a classical register with two bits to store the result.\n",
    "\n",
    "The controlled-$S$ gate can be implemented using the controlled phase gate, available in Qiskit as `CPhaseGate`, which can also be applied by calling the `cp` method of a `QuantumCircuit`. The controlled phase gate is parameterized by an angle $\\theta$ and has the matrix\n",
    "$$\n",
    "        \\text{CPhase}(\\theta) =\n",
    "            \\begin{pmatrix}\n",
    "                1 & 0 & 0 & 0 \\\\\n",
    "                0 & 1 & 0 & 0 \\\\\n",
    "                0 & 0 & 1 & 0 \\\\\n",
    "                0 & 0 & 0 & e^{i\\theta}\n",
    "            \\end{pmatrix}\n",
    "$$"
   ]
  },
  {
   "cell_type": "markdown",
   "metadata": {},
   "source": [
    "\n",
    "### Step 1\n",
    "\n",
    "In the first step of the algorithm, we measure the least significant bit of $\\varphi$.\n",
    "\n",
    "#### Exercise 1\n",
    "\n",
    "Obtain the least significant bit of $\\varphi$ by performing the following steps:\n",
    "1. Initialize the qubits:\n",
    "   - Apply a Hadamard on the auxiliary qubit.\n",
    "   - Apply an X gate on the system qubit to put it in the $|1\\rangle$ state.\n",
    "2. Apply a *controlled*-$S^{2}$ gate by applying a `CPhaseGate` with the appropriate angle.\n",
    "3. Measure the auxiliary qubit in the $X$ basis:\n",
    "   - Apply a Hadamard gate on the auxiliary qubit.\n",
    "   - Measure it in the computational basis.\n",
    "\n",
    "The resulting circuit should look something like this:\n",
    "\n",
    "![step1-circuit](resources/step1-circuit.png)"
   ]
  },
  {
   "cell_type": "code",
   "execution_count": 12,
   "metadata": {
    "tags": []
   },
   "outputs": [
    {
     "data": {
      "image/png": "[encoded data removed]",
      "text/plain": [
       "<Figure size 454.517x284.278 with 1 Axes>"
      ]
     },
     "execution_count": 12,
     "metadata": {},
     "output_type": "execute_result"
    }
   ],
   "source": [
    "from qiskit import ClassicalRegister, QuantumCircuit, QuantumRegister\n",
    "import numpy as np\n",
    "\n",
    "\n",
    "def step_1_circuit(qr: QuantumRegister, cr: ClassicalRegister) -> QuantumCircuit:\n",
    "    # qr is a quantum register with 2 qubits\n",
    "    # cr is a classical register with 2 bits\n",
    "\n",
    "    qc = QuantumCircuit(qr, cr)\n",
    "\n",
    "    ####### your code goes here #######\n",
    "    qc.h(qr[0])\n",
    "    qc.x(qr[1])\n",
    "    \n",
    "    qc.cp(np.pi,qr[0],qr[1])\n",
    "    \n",
    "    qc.h(qr[0])\n",
    "    qc.measure(qr[0],cr[0])\n",
    "         \n",
    "\n",
    "    return qc\n",
    "\n",
    "\n",
    "qr = QuantumRegister(2, \"q\")\n",
    "cr = ClassicalRegister(2, \"c\")\n",
    "qc = QuantumCircuit(qr, cr)\n",
    "qc = step_1_circuit(qr, cr)\n",
    "qc.draw(\"mpl\")"
   ]
  },
  {
   "cell_type": "code",
   "execution_count": 2,
   "metadata": {
    "tags": []
   },
   "outputs": [
    {
     "name": "stdout",
     "output_type": "stream",
     "text": [
      "Submitting your answer. Please wait...\n",
      "Congratulations 🎉! Your answer is correct and has been submitted.\n"
     ]
    }
   ],
   "source": [
    "# Submit your circuit\n",
    "\n",
    "from qc_grader.challenges.spring_2023 import grade_ex3a\n",
    "\n",
    "grade_ex3a(qc)"
   ]
  },
  {
   "cell_type": "markdown",
   "metadata": {},
   "source": [
    "### Step 2\n",
    "\n",
    "In the first step, we measured the least significant bit $\\varphi_2$. In the second (and final) step, we extract the next bit $\\varphi_1$, which will involve applying a phase correction to cancel out the phase contribution from $\\varphi_2$. The phase correction depends on the value of the classical register holding $\\varphi_2$. We need dynamic circuits to perform this classical feedback! The phase correction can be applied using `PhaseGate` or by directly calling the `p` method of a QuantumCircuit.\n",
    "\n",
    "#### Exercise 2\n",
    "\n",
    "In this exercise, we begin with the circuit from Step 1, which you should have constructed in Exercise 1.\n",
    "\n",
    "Obtain the next bit of $\\varphi$ by performing the following steps:\n",
    "1. Reset and re-initialize the auxiliary qubit.\n",
    "2. Apply the controlled unitary gate.\n",
    "3. Measure the auxiliary qubit in the $X$ basis.\n",
    "\n",
    "The resulting circuit should look something like this:\n",
    "\n",
    "![step1-circuit](resources/step2-circuit.png)"
   ]
  },
  {
   "cell_type": "code",
   "execution_count": 28,
   "metadata": {
    "tags": []
   },
   "outputs": [
    {
     "data": {
      "image/png": "[encoded data removed]",
      "text/plain": [
       "<Figure size 1039.79x367.889 with 1 Axes>"
      ]
     },
     "execution_count": 28,
     "metadata": {},
     "output_type": "execute_result"
    }
   ],
   "source": [
    "def step_2_circuit(qr: QuantumRegister, cr: ClassicalRegister) -> QuantumCircuit:\n",
    "    # qr is a quantum register with 2 qubits\n",
    "    # cr is a classical register with 2 bits\n",
    "\n",
    "    # begin with the circuit from Step 1\n",
    "    qc = step_1_circuit(qr, cr)\n",
    "\n",
    "    ####### your code goes here #######\n",
    "    qc.reset(qr[0])\n",
    "    qc.h(qr[0])\n",
    "    \n",
    "    with qc.if_test((cr[0], 1)):\n",
    "        qc.p(np.pi, 0)\n",
    "        \n",
    "    qc.cp(np.pi,qr[0],qr[1])\n",
    "    qc.h(qr[0])\n",
    "    qc.measure(qr[0],cr[1])\n",
    "    \n",
    "\n",
    "    return qc\n",
    "\n",
    "\n",
    "qr = QuantumRegister(2, \"q\")\n",
    "cr = ClassicalRegister(2, \"c\")\n",
    "qc = QuantumCircuit(qr, cr)\n",
    "qc = step_2_circuit(qr, cr)\n",
    "qc.draw(\"mpl\")"
   ]
  },
  {
   "cell_type": "code",
   "execution_count": 29,
   "metadata": {
    "tags": []
   },
   "outputs": [
    {
     "name": "stdout",
     "output_type": "stream",
     "text": [
      "Submitting your answer. Please wait...\n",
      "Congratulations 🎉! Your answer is correct and has been submitted.\n"
     ]
    }
   ],
   "source": [
    "# Submit your circuit\n",
    "\n",
    "from qc_grader.challenges.spring_2023 import grade_ex3b\n",
    "\n",
    "grade_ex3b(qc)"
   ]
  },
  {
   "cell_type": "markdown",
   "metadata": {},
   "source": [
    "## Run on simulator\n",
    "\n",
    "Now that we have the complete circuit, let's first run it on a local simulator."
   ]
  },
  {
   "cell_type": "code",
   "execution_count": 30,
   "metadata": {
    "tags": []
   },
   "outputs": [
    {
     "data": {
      "text/plain": [
       "{'01': 1000}"
      ]
     },
     "execution_count": 30,
     "metadata": {},
     "output_type": "execute_result"
    }
   ],
   "source": [
    "from qiskit_aer import AerSimulator\n",
    "\n",
    "sim = AerSimulator()\n",
    "job = sim.run(qc, shots=1000)\n",
    "result = job.result()\n",
    "counts = result.get_counts()\n",
    "counts"
   ]
  },
  {
   "cell_type": "markdown",
   "metadata": {},
   "source": [
    "If your circuit is correct, you should have gotten the bitstring `01` with 100% probability. This value corresponds to the phase written in binary as $\\varphi = 0.01 = 1/4$. Indeed, this is the correct phase!"
   ]
  },
  {
   "cell_type": "markdown",
   "metadata": {},
   "source": [
    "### Exercise 3\n",
    "\n",
    "Construct an IPE circuit to estimate the phase of the T gate, whose matrix is given by\n",
    "\n",
    "$$ T =\n",
    "\\begin{pmatrix}\n",
    "1 & 0\\\\\n",
    "0 & e^{i\\pi / 4}\n",
    "\\end{pmatrix}$$\n",
    "\n",
    "How many bits are needed to represent the phase in this case?"
   ]
  },
  {
   "cell_type": "code",
   "execution_count": 37,
   "metadata": {
    "tags": []
   },
   "outputs": [
    {
     "data": {
      "image/png": "[encoded data removed]",
      "text/plain": [
       "<Figure size 1039.79x451.5 with 1 Axes>"
      ]
     },
     "execution_count": 37,
     "metadata": {},
     "output_type": "execute_result"
    }
   ],
   "source": [
    "from qiskit import ClassicalRegister, QuantumCircuit, QuantumRegister\n",
    "import numpy as np\n",
    "\n",
    "\n",
    "def t_gate_ipe_circuit(qr: QuantumRegister, cr: ClassicalRegister) -> QuantumCircuit:\n",
    "    # qr is a quantum register with 2 qubits\n",
    "    # cr is a classical register with 3 bits\n",
    "\n",
    "    qc = QuantumCircuit(qr, cr)\n",
    "\n",
    "    ####### your code goes here #######\n",
    "    qc.h(qr[0])\n",
    "    qc.x(qr[1])\n",
    "    \n",
    "    qc.cp(np.pi,qr[0],qr[1])\n",
    "    \n",
    "    qc.h(qr[0])\n",
    "    qc.measure(qr[0],cr[0])\n",
    "    \n",
    "    qc.reset(qr[0])\n",
    "    qc.h(qr[0])\n",
    "    \n",
    "    with qc.if_test((cr[0], 1)):\n",
    "        qc.p(np.pi, 0)\n",
    "        \n",
    "    qc.cp(np.pi,qr[0],qr[1])\n",
    "    qc.h(qr[0])\n",
    "    qc.measure(qr[0],cr[1])\n",
    "\n",
    "\n",
    "    return qc\n",
    "\n",
    "\n",
    "qr = QuantumRegister(2, \"q\")\n",
    "cr = ClassicalRegister(3, \"c\")\n",
    "qc = QuantumCircuit(qr, cr)\n",
    "qc = t_gate_ipe_circuit(qr, cr)\n",
    "qc.draw(\"mpl\")"
   ]
  },
  {
   "cell_type": "code",
   "execution_count": 38,
   "metadata": {
    "tags": []
   },
   "outputs": [
    {
     "data": {
      "text/plain": [
       "{'001': 1000}"
      ]
     },
     "execution_count": 38,
     "metadata": {},
     "output_type": "execute_result"
    }
   ],
   "source": [
    "from qiskit_aer import AerSimulator\n",
    "\n",
    "sim = AerSimulator()\n",
    "job = sim.run(qc, shots=1000)\n",
    "result = job.result()\n",
    "counts = result.get_counts()\n",
    "counts"
   ]
  },
  {
   "cell_type": "code",
   "execution_count": 39,
   "metadata": {
    "tags": []
   },
   "outputs": [
    {
     "name": "stdout",
     "output_type": "stream",
     "text": [
      "Submitting your answer. Please wait...\n",
      "Congratulations 🎉! Your answer is correct and has been submitted.\n"
     ]
    }
   ],
   "source": [
    "# Submit your circuit\n",
    "\n",
    "from qc_grader.challenges.spring_2023 import grade_ex3c\n",
    "\n",
    "grade_ex3c(qc)"
   ]
  },
  {
   "cell_type": "markdown",
   "metadata": {},
   "source": [
    "### When the phase does not have an exact binary expansion\n",
    "\n",
    "Let's consider the case when the phase does not have an exact binary expansion, for example, $\\varphi = 1/3$.\n",
    "In this case, the single-qubit gate has the unitary\n",
    "\n",
    "$$ U =\n",
    "\\begin{pmatrix}\n",
    "1 & 0\\\\\n",
    "0 & e^{i2\\pi / 3}\n",
    "\\end{pmatrix}\n",
    "$$\n",
    "\n",
    "The angle $\\varphi = 1/3$ does not have an exact finite binary expansion. In contrast, it has the infinite binary expansion\n",
    "\n",
    "$$\n",
    "1/3 = 0.010101\\ldots\n",
    "$$\n",
    "\n",
    "In practice we work with a fixed number of bits of precision, so our goal is to obtain the closest value that can be represented with those bits. In the following example, we will use two bits of precision. In this case, the closest value is $0.01 = 1/4$. Because this value does not represent the exact phase, there is some probability that we will obtain a different, less precise result.\n",
    "\n",
    "In the following code cells, we construct and simulate an IPE circuit to measure the phase of this gate."
   ]
  },
  {
   "cell_type": "code",
   "execution_count": 40,
   "metadata": {
    "tags": []
   },
   "outputs": [
    {
     "data": {
      "image/png": "[encoded data removed]",
      "text/plain": [
       "<Figure size 1207.02x367.889 with 1 Axes>"
      ]
     },
     "execution_count": 40,
     "metadata": {},
     "output_type": "execute_result"
    }
   ],
   "source": [
    "from qiskit import ClassicalRegister, QuantumCircuit, QuantumRegister\n",
    "import numpy as np\n",
    "\n",
    "\n",
    "def u_circuit(qr: QuantumRegister, cr: ClassicalRegister) -> QuantumCircuit:\n",
    "    # qr is a quantum register with 2 qubits\n",
    "    # cr is a classical register with 2 bits\n",
    "\n",
    "    qc = QuantumCircuit(qr, cr)\n",
    "\n",
    "    # Initialization\n",
    "    q0, q1 = qr\n",
    "    qc.h(q0)\n",
    "    qc.x(q1)\n",
    "\n",
    "    # Apply control-U operator as many times as needed to get the least significant phase bit\n",
    "    u_angle = 2 * np.pi / 3\n",
    "    k = 1\n",
    "    cphase_angle = u_angle * 2**k\n",
    "    qc.cp(cphase_angle, q0, q1)\n",
    "\n",
    "    # Measure the auxiliary qubit in x-basis into the first classical bit\n",
    "    qc.h(q0)\n",
    "    c0, c1 = cr\n",
    "    qc.measure(q0, c0)\n",
    "\n",
    "    # Reset and re-initialize the auxiliary qubit\n",
    "    qc.reset(q0)\n",
    "    qc.h(q0)\n",
    "\n",
    "    # Apply phase correction conditioned on the first classical bit\n",
    "    with qc.if_test((c0, 1)):\n",
    "        qc.p(-np.pi / 2, q0)\n",
    "\n",
    "    # Apply control-U operator as many times as needed to get the next phase bit\n",
    "    k = 0\n",
    "    cphase_angle = u_angle * 2**k\n",
    "    qc.cp(cphase_angle, q0, q1)\n",
    "\n",
    "    # Measure the auxiliary qubit in x-basis into the second classical bit\n",
    "    qc.h(q0)\n",
    "    qc.measure(q0, c1)\n",
    "\n",
    "    return qc\n",
    "\n",
    "\n",
    "qr = QuantumRegister(2, \"q\")\n",
    "cr = ClassicalRegister(2, \"c\")\n",
    "qc = QuantumCircuit(qr, cr)\n",
    "qc = u_circuit(qr, cr)\n",
    "qc.draw(\"mpl\")"
   ]
  },
  {
   "cell_type": "code",
   "execution_count": 41,
   "metadata": {
    "tags": []
   },
   "outputs": [
    {
     "name": "stdout",
     "output_type": "stream",
     "text": [
      "{'10': 176, '00': 74, '01': 707, '11': 43}\n",
      "Success probability: 0.707\n"
     ]
    }
   ],
   "source": [
    "from qiskit_aer import AerSimulator\n",
    "\n",
    "sim = AerSimulator()\n",
    "job = sim.run(qc, shots=1000)\n",
    "result = job.result()\n",
    "counts = result.get_counts()\n",
    "print(counts)\n",
    "success_probability = counts[\"01\"] / counts.shots()\n",
    "print(f\"Success probability: {success_probability}\")"
   ]
  },
  {
   "cell_type": "markdown",
   "metadata": {},
   "source": [
    "As you can see, this time, we are not guaranteed to obtain the desired result. A natural question to ask is: How can we boost the success probability?\n",
    "\n",
    "One way that the algorithm fails is that the first measured bit is incorrect. In this case, the phase correction applied before measuring the second bit is also incorrect, causing the rest of the bits to be likely incorrect as well. A simple way to mitigate this problem is to repeat the measurement of the first few bits several times and take a majority vote to increase the likelihood that we measure the bit correctly. Implementing this procedure within a single circuit requires performing arithmetic on the measured outcomes. Due to a temporary limitation in Qiskit, it is currently not possible to perform arithmetic on measured bits and condition future circuit operations on the results. So, here we will measure each bit using separate circuits.\n",
    "\n",
    "The following code cells construct and simulate an IPE circuit for measuring just the first bit of the phase."
   ]
  },
  {
   "cell_type": "code",
   "execution_count": 47,
   "metadata": {
    "tags": []
   },
   "outputs": [
    {
     "data": {
      "image/png": "[encoded data removed]",
      "text/plain": [
       "<Figure size 538.128x284.278 with 1 Axes>"
      ]
     },
     "execution_count": 47,
     "metadata": {},
     "output_type": "execute_result"
    }
   ],
   "source": [
    "from qiskit import ClassicalRegister, QuantumCircuit, QuantumRegister\n",
    "import numpy as np\n",
    "\n",
    "\n",
    "def u_circuit(qr: QuantumRegister, cr: ClassicalRegister) -> QuantumCircuit:\n",
    "    # qr is a quantum register with 2 qubits\n",
    "    # cr is a classical register with 1 bits\n",
    "\n",
    "    qc = QuantumCircuit(qr, cr)\n",
    "\n",
    "    # Initialization\n",
    "    q0, q1 = qr\n",
    "    qc.h(q0)\n",
    "    qc.x(q1)\n",
    "\n",
    "    # Apply control-U operator as many times as needed to get the least significant phase bit\n",
    "    u_angle = 2 * np.pi / 3\n",
    "    k = 1\n",
    "    cphase_angle = u_angle * 2**k\n",
    "    qc.cp(cphase_angle, q0, q1)\n",
    "\n",
    "    # Measure the auxiliary qubit in x-basis\n",
    "    qc.h(q0)\n",
    "    (c0,) = cr\n",
    "    qc.measure(q0, c0)\n",
    "\n",
    "    return qc\n",
    "\n",
    "\n",
    "qr = QuantumRegister(2, \"q\")\n",
    "cr = ClassicalRegister(1, \"c\")\n",
    "qc = QuantumCircuit(qr, cr)\n",
    "qc = u_circuit(qr, cr)\n",
    "qc.draw(\"mpl\")"
   ]
  },
  {
   "cell_type": "code",
   "execution_count": 58,
   "metadata": {
    "tags": []
   },
   "outputs": [
    {
     "name": "stdout",
     "output_type": "stream",
     "text": [
      "{'0': 1, '1': 14}\n"
     ]
    }
   ],
   "source": [
    "job = sim.run(qc, shots=15)\n",
    "result = job.result()\n",
    "counts = result.get_counts()\n",
    "print(counts)"
   ]
  },
  {
   "cell_type": "markdown",
   "metadata": {},
   "source": [
    "Hopefully, the correct bit was measured more often than not.\n",
    "\n",
    "### Exercise 4\n",
    "\n",
    "Examine the counts dictionary from the output of the last code cell. What is the correct value for the first bit? Was it measured more often than not? If not, rerun the last code cell until it is. Then, write some code in the code cell below that sets the variable `step1_bit` equal to the value of the bit that was measured the majority of the time."
   ]
  },
  {
   "cell_type": "code",
   "execution_count": 59,
   "metadata": {
    "tags": []
   },
   "outputs": [
    {
     "name": "stdout",
     "output_type": "stream",
     "text": [
      "1\n"
     ]
    }
   ],
   "source": [
    "step1_bit: int\n",
    "\n",
    "####### your code goes here #######\n",
    "step1_bit = counts['0']\n",
    "\n",
    "print(step1_bit)"
   ]
  },
  {
   "cell_type": "code",
   "execution_count": 60,
   "metadata": {
    "tags": []
   },
   "outputs": [
    {
     "name": "stdout",
     "output_type": "stream",
     "text": [
      "Submitting your answer. Please wait...\n",
      "Congratulations 🎉! Your answer is correct and has been submitted.\n"
     ]
    }
   ],
   "source": [
    "# Submit your result\n",
    "\n",
    "from qc_grader.challenges.spring_2023 import grade_ex3d\n",
    "\n",
    "grade_ex3d(step1_bit)"
   ]
  },
  {
   "cell_type": "markdown",
   "metadata": {},
   "source": [
    "### Exercise 5\n",
    "\n",
    "Now construct the circuit to measure the second bit of the phase. Replace the first stage of the circuit with one which simply sets the auxiliary bit to the value we measured above, so that we always measure the correct value for the first bit of the phase."
   ]
  },
  {
   "cell_type": "code",
   "execution_count": 63,
   "metadata": {
    "tags": []
   },
   "outputs": [
    {
     "data": {
      "image/png": "[encoded data removed]",
      "text/plain": [
       "<Figure size 1039.79x367.889 with 1 Axes>"
      ]
     },
     "execution_count": 63,
     "metadata": {},
     "output_type": "execute_result"
    }
   ],
   "source": [
    "from qiskit import ClassicalRegister, QuantumCircuit, QuantumRegister\n",
    "import numpy as np\n",
    "\n",
    "\n",
    "def u_circuit(qr: QuantumRegister, cr: ClassicalRegister) -> QuantumCircuit:\n",
    "    # qr is a quantum register with 2 qubits\n",
    "    # cr is a classical register with 2 bits\n",
    "\n",
    "    qc = QuantumCircuit(qr, cr)\n",
    "\n",
    "    qc.h(qr[0])\n",
    "    qc.x(qr[1])\n",
    "    \n",
    "    qc.cp(np.pi,qr[0],qr[1])\n",
    "    \n",
    "    qc.h(qr[0])\n",
    "    qc.measure(qr[0],cr[0])\n",
    "    \n",
    "    qc.reset(qr[0])\n",
    "    qc.h(qr[0])\n",
    "    \n",
    "    with qc.if_test((cr[0], 1)):\n",
    "        qc.p(np.pi, 0)\n",
    "        \n",
    "    qc.cp(np.pi,qr[0],qr[1])\n",
    "    qc.h(qr[0])\n",
    "    qc.measure(qr[0],cr[1])\n",
    "\n",
    "\n",
    "    return qc\n",
    "\n",
    "\n",
    "qr = QuantumRegister(2, \"q\")\n",
    "cr = ClassicalRegister(2, \"c\")\n",
    "qc = QuantumCircuit(qr, cr)\n",
    "qc = u_circuit(qr, cr)\n",
    "qc.draw(\"mpl\")"
   ]
  },
  {
   "cell_type": "code",
   "execution_count": 64,
   "metadata": {
    "tags": []
   },
   "outputs": [
    {
     "name": "stdout",
     "output_type": "stream",
     "text": [
      "Submitting your answer. Please wait...\n",
      "Congratulations 🎉! Your answer is correct and has been submitted.\n"
     ]
    }
   ],
   "source": [
    "# Submit your result\n",
    "\n",
    "from qc_grader.challenges.spring_2023 import grade_ex3e\n",
    "\n",
    "grade_ex3e(qc)"
   ]
  },
  {
   "cell_type": "code",
   "execution_count": 65,
   "metadata": {
    "tags": []
   },
   "outputs": [
    {
     "name": "stdout",
     "output_type": "stream",
     "text": [
      "{'01': 1000}\n",
      "Success probability: 1.0\n"
     ]
    }
   ],
   "source": [
    "from qiskit_aer import AerSimulator\n",
    "\n",
    "sim = AerSimulator()\n",
    "job = sim.run(qc, shots=1000)\n",
    "result = job.result()\n",
    "counts = result.get_counts()\n",
    "print(counts)\n",
    "success_probability = counts[\"01\"] / counts.shots()\n",
    "print(f\"Success probability: {success_probability}\")"
   ]
  },
  {
   "cell_type": "markdown",
   "metadata": {},
   "source": [
    "Now, the success probability is much higher than before!"
   ]
  },
  {
   "cell_type": "markdown",
   "metadata": {},
   "source": [
    "## Run on hardware\n",
    "\n",
    "In the final part of this lab, we will run some circuits on real hardware! The code cells below initialize and run the circuit you created in Exercise 2 to measure the phase of the $S$ gate. Because current quantum hardware suffers from noise, the results will not be as good as what you got on the simulator. Feel free to try running the other circuits you created in this lab, though be aware that larger circuits, like the one from Exercise 3 for measuring the phase of the $T$ gate, will suffer from even more noise."
   ]
  },
  {
   "cell_type": "code",
   "execution_count": null,
   "metadata": {},
   "outputs": [],
   "source": [
    "from qiskit_ibm_provider import IBMProvider\n",
    "\n",
    "provider = IBMProvider()"
   ]
  },
  {
   "cell_type": "code",
   "execution_count": null,
   "metadata": {},
   "outputs": [],
   "source": [
    "hub = \"YOUR_HUB\"\n",
    "group = \"YOUR_GROUP\"\n",
    "project = \"YOUR_PROJECT\"\n",
    "\n",
    "backend_name = \"ibm_peekskill\"\n",
    "backend = provider.get_backend(backend_name, instance=f\"{hub}/{group}/{project}\")"
   ]
  },
  {
   "cell_type": "code",
   "execution_count": null,
   "metadata": {},
   "outputs": [],
   "source": [
    "from qiskit import transpile\n",
    "\n",
    "qr = QuantumRegister(2, \"q\")\n",
    "cr = ClassicalRegister(2, \"c\")\n",
    "qc = QuantumCircuit(qr, cr)\n",
    "qc = step_2_circuit(qr, cr)\n",
    "qc_transpiled = transpile(qc, backend)"
   ]
  },
  {
   "cell_type": "code",
   "execution_count": null,
   "metadata": {},
   "outputs": [],
   "source": [
    "job = backend.run(qc_transpiled, shots=1000, dynamic=True)\n",
    "job_id = job.job_id()\n",
    "print(job_id)"
   ]
  },
  {
   "cell_type": "code",
   "execution_count": null,
   "metadata": {},
   "outputs": [],
   "source": [
    "retrieve_job = provider.retrieve_job(job_id)\n",
    "retrieve_job.status()"
   ]
  },
  {
   "cell_type": "code",
   "execution_count": null,
   "metadata": {},
   "outputs": [],
   "source": [
    "from qiskit.tools.visualization import plot_histogram\n",
    "\n",
    "counts = retrieve_job.result().get_counts()\n",
    "plot_histogram(counts)"
   ]
  },
  {
   "cell_type": "markdown",
   "metadata": {},
   "source": [
    "This lab was adapted from the [Qiskit Textbook lab](https://learn.qiskit.org/course/ch-labs/lab-6-iterative-phase-estimation-algorithm) on iterative phase estimation as well as material from the [dynamic circuits documentation](https://quantum-computing.ibm.com/services/resources/docs/resources/manage/systems/dynamic-circuits/Getting-started-with-Dynamic-Circuits)."
   ]
  }
 ],
 "metadata": {
  "kernelspec": {
   "display_name": "Python 3 (ipykernel)",
   "language": "python",
   "name": "python3"
  },
  "language_info": {
   "codemirror_mode": {
    "name": "ipython",
    "version": 3
   },
   "file_extension": ".py",
   "mimetype": "text/x-python",
   "name": "python",
   "nbconvert_exporter": "python",
   "pygments_lexer": "ipython3",
   "version": "3.10.8"
  },
  "vscode": {
   "interpreter": {
    "hash": "c2040b9df22fb8e6f552d9b589c97ff536ffe03a0da1ea2949f78b5a0e303bb6"
   }
  },
  "widgets": {
   "application/vnd.jupyter.widget-state+json": {
    "state": {},
    "version_major": 2,
    "version_minor": 0
   }
  }
 },
 "nbformat": 4,
 "nbformat_minor": 4
}
